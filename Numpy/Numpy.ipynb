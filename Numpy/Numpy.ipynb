{
 "cells": [
  {
   "cell_type": "markdown",
   "id": "3cba22de-081d-48f5-966f-61d3532910c2",
   "metadata": {},
   "source": [
    "# Numpy"
   ]
  },
  {
   "cell_type": "code",
   "execution_count": 1,
   "id": "4c6b5036-6eb5-4213-a517-f8f2532a1af1",
   "metadata": {},
   "outputs": [],
   "source": [
    "# Importing the numpy library for numerical operations\n",
    "import numpy as np"
   ]
  },
  {
   "cell_type": "markdown",
   "id": "63582bac-cc36-4540-83be-01d95da297c8",
   "metadata": {},
   "source": [
    "## Why is NumPy faster than Lists\n",
    "\n",
    "<ol>\n",
    "    <li>Fixed-Size, Homogeneous Data Types</li>\n",
    "    <li>Contiguous Memory Allocation</li>\n",
    "    <li>Vectorization and Broadcasting</li>\n",
    "    <li>Optimized C Backend</li>\n",
    "    <li>Memory Efficiency</li>\n",
    "    <li>Lower-Level Operations</li>\n",
    "    <li>No type checking when iterating through objects</li>\n",
    "</ol>"
   ]
  },
  {
   "cell_type": "markdown",
   "id": "94c0d967-c25c-4b49-8e3a-718c09ed1c5f",
   "metadata": {},
   "source": [
    "## Applications of NumPy : \n",
    "\n",
    "<ol>\n",
    "    <li>Scientific Computing</li>\n",
    "    <li>Data Science and Data Analysis</li>\n",
    "    <li>Machine Learning and Deep Learning</li>\n",
    "    <li>Image and Signal Processing</li>\n",
    "    <li>Backend (pandas, Connect 4, Digital Photography</li>\n",
    "    <li>Finance and Economics</li>\n",
    "</ol>"
   ]
  },
  {
   "cell_type": "markdown",
   "id": "dacaaa30-1a03-4691-8a8e-4ea06a3a8fa8",
   "metadata": {},
   "source": [
    "### The Basics"
   ]
  },
  {
   "cell_type": "code",
   "execution_count": 2,
   "id": "4bb318d8-c6bd-48ca-a239-fe2d485e9ffb",
   "metadata": {},
   "outputs": [
    {
     "name": "stdout",
     "output_type": "stream",
     "text": [
      "[1 2 3]\n"
     ]
    }
   ],
   "source": [
    "# Create a NumPy array\n",
    "arr1 = np.array([1, 2, 3])\n",
    "\n",
    "# Print the array\n",
    "print(arr1)"
   ]
  },
  {
   "cell_type": "code",
   "execution_count": 3,
   "id": "c3a13818-6638-4b25-bd0d-a68d9aaaa086",
   "metadata": {},
   "outputs": [
    {
     "name": "stdout",
     "output_type": "stream",
     "text": [
      "[1 2 3]\n"
     ]
    }
   ],
   "source": [
    "# Create an int16 array\n",
    "arr2 = np.array([1, 2, 3], dtype=\"int16\")\n",
    "\n",
    "# Print the int16 array\n",
    "print(arr2)"
   ]
  },
  {
   "cell_type": "code",
   "execution_count": 4,
   "id": "c9af5d8f-c97b-4d4e-a416-c47e5c1d8971",
   "metadata": {},
   "outputs": [
    {
     "name": "stdout",
     "output_type": "stream",
     "text": [
      "[[1 2 3 4 5]\n",
      " [6 7 8 9 0]]\n"
     ]
    }
   ],
   "source": [
    "# Create a 2D NumPy array\n",
    "arr3 = np.array([[1, 2, 3, 4, 5], [6, 7, 8, 9, 0]])\n",
    "\n",
    "# Print the 2D array\n",
    "print(arr3)"
   ]
  },
  {
   "cell_type": "code",
   "execution_count": 5,
   "id": "86c9439e-966c-4d50-9aa7-b8a4a470af11",
   "metadata": {},
   "outputs": [
    {
     "name": "stdout",
     "output_type": "stream",
     "text": [
      "[[[1 2 3 4 5]\n",
      "  [6 7 8 9 0]]\n",
      "\n",
      " [[9 8 7 6 5]\n",
      "  [4 3 2 1 0]]]\n"
     ]
    }
   ],
   "source": [
    "# Create a 3D NumPy array\n",
    "arr4 = np.array([[[1, 2, 3, 4, 5], [6, 7, 8, 9, 0]], [[9, 8, 7, 6, 5], [4, 3, 2, 1, 0]]])\n",
    "\n",
    "# Print the 3D array\n",
    "print(arr4)"
   ]
  },
  {
   "cell_type": "code",
   "execution_count": 6,
   "id": "09fc7d94-a4fa-47e5-b93f-de6a641453ff",
   "metadata": {},
   "outputs": [
    {
     "name": "stdout",
     "output_type": "stream",
     "text": [
      "Number of dimensions of arr1: 1\n",
      "Number of dimensions of arr2: 1\n",
      "Number of dimensions of arr3: 2\n",
      "Number of dimensions of arr4: 3\n"
     ]
    }
   ],
   "source": [
    "# .ndim returns the number of dimensions (axes) of the array\n",
    "\n",
    "# Get the number of dimensions of arr1\n",
    "dims_arr1 = arr1.ndim\n",
    "\n",
    "# Get the number of dimensions of arr2\n",
    "dims_arr2 = arr2.ndim\n",
    "\n",
    "# Get the number of dimensions of arr3\n",
    "dims_arr3 = arr3.ndim\n",
    "\n",
    "# Get the number of dimensions of arr4\n",
    "dims_arr4 = arr4.ndim\n",
    "\n",
    "# Print the number of dimensions for all arrays\n",
    "print(\"Number of dimensions of arr1:\", dims_arr1)\n",
    "print(\"Number of dimensions of arr2:\", dims_arr2)\n",
    "print(\"Number of dimensions of arr3:\", dims_arr3)\n",
    "print(\"Number of dimensions of arr4:\", dims_arr4)"
   ]
  },
  {
   "cell_type": "code",
   "execution_count": 7,
   "id": "894d470c-9432-45c8-beb2-a5be23fffe07",
   "metadata": {},
   "outputs": [
    {
     "name": "stdout",
     "output_type": "stream",
     "text": [
      "Shape of arr1: (3,)\n",
      "Shape of arr2: (3,)\n",
      "Shape of arr3: (2, 5)\n",
      "Shape of arr4: (2, 2, 5)\n"
     ]
    }
   ],
   "source": [
    "# .shape gives the dimensions (shape) of the array, i.e., the number of elements in each axis\n",
    "\n",
    "# Get the shape of arr1 (1D array)\n",
    "shape_arr1 = arr1.shape\n",
    "\n",
    "# Get the shape of arr2 (1D array with int16 data type)\n",
    "shape_arr2 = arr2.shape\n",
    "\n",
    "# Get the shape of arr3 (2D array)\n",
    "shape_arr3 = arr3.shape\n",
    "\n",
    "# Get the shape of arr4 (3D array)\n",
    "shape_arr4 = arr4.shape\n",
    "\n",
    "# Print the shapes of all arrays\n",
    "print(\"Shape of arr1:\", shape_arr1)\n",
    "print(\"Shape of arr2:\", shape_arr2)\n",
    "print(\"Shape of arr3:\", shape_arr3)\n",
    "print(\"Shape of arr4:\", shape_arr4)"
   ]
  },
  {
   "cell_type": "code",
   "execution_count": 8,
   "id": "ed86b634-c292-4f89-a081-200a3c16e84c",
   "metadata": {},
   "outputs": [
    {
     "name": "stdout",
     "output_type": "stream",
     "text": [
      "Data type of arr1: int64\n",
      "Data type of arr2: int16\n",
      "Data type of arr3: int64\n"
     ]
    }
   ],
   "source": [
    "# .dtype returns the data type of the array elements\n",
    "\n",
    "# Get the data type of arr1\n",
    "dtype_arr1 = arr1.dtype\n",
    "\n",
    "# Get the data type of arr2\n",
    "dtype_arr2 = arr2.dtype\n",
    "\n",
    "# Get the data type of arr3\n",
    "dtype_arr3 = arr3.dtype\n",
    "\n",
    "# Print the data types of all arrays\n",
    "print(\"Data type of arr1:\", dtype_arr1)\n",
    "print(\"Data type of arr2:\", dtype_arr2)\n",
    "print(\"Data type of arr3:\", dtype_arr3)"
   ]
  },
  {
   "cell_type": "code",
   "execution_count": 9,
   "id": "82d62eae-ca81-4f78-963f-dc2c8a820197",
   "metadata": {},
   "outputs": [
    {
     "name": "stdout",
     "output_type": "stream",
     "text": [
      "Item size of arr1: 8 bytes\n",
      "Item size of arr2: 2 bytes\n"
     ]
    }
   ],
   "source": [
    "# .itemsize returns the size of a single array element in bytes\n",
    "\n",
    "# Get the size of a single element in arr1 in bytes\n",
    "itemsize_arr1 = arr1.itemsize\n",
    "\n",
    "# Get the size of a single element in arr2 in bytes\n",
    "itemsize_arr2 = arr2.itemsize\n",
    "\n",
    "# Print the item sizes\n",
    "print(\"Item size of arr1:\", itemsize_arr1, \"bytes\")\n",
    "print(\"Item size of arr2:\", itemsize_arr2, \"bytes\")"
   ]
  },
  {
   "cell_type": "code",
   "execution_count": 10,
   "id": "034920a2-421e-49bd-bfef-dc5ffcb1ecb2",
   "metadata": {},
   "outputs": [
    {
     "name": "stdout",
     "output_type": "stream",
     "text": [
      "Number of elements in arr1: 3\n",
      "Number of elements in arr2: 3\n",
      "Number of elements in arr3: 10\n",
      "Number of elements in arr4: 20\n"
     ]
    }
   ],
   "source": [
    "# .size returns the total number of elements in the array\n",
    "\n",
    "# Get the total number of elements in arr1\n",
    "size_arr1 = arr1.size\n",
    "\n",
    "# Get the total number of elements in arr2\n",
    "size_arr2 = arr2.size\n",
    "\n",
    "# Get the total number of elements in arr3\n",
    "size_arr3 = arr3.size\n",
    "\n",
    "# Get the total number of elements in arr4\n",
    "size_arr4 = arr4.size\n",
    "\n",
    "# Print the total number of elements for all arrays\n",
    "print(\"Number of elements in arr1:\", size_arr1)\n",
    "print(\"Number of elements in arr2:\", size_arr2)\n",
    "print(\"Number of elements in arr3:\", size_arr3)\n",
    "print(\"Number of elements in arr4:\", size_arr4)"
   ]
  },
  {
   "cell_type": "code",
   "execution_count": 11,
   "id": "e69e6538-bec3-4fbc-8234-8970bbf52395",
   "metadata": {},
   "outputs": [
    {
     "name": "stdout",
     "output_type": "stream",
     "text": [
      "Total bytes consumed by arr1: 24\n",
      "Total bytes consumed by arr2: 6\n",
      "Total bytes consumed by arr3: 80\n",
      "Total bytes consumed by arr4: 160\n"
     ]
    }
   ],
   "source": [
    "# .nbytes returns the total number of bytes consumed by the array\n",
    "# This is equivalent to size * itemsize (total elements * size of each element in bytes)\n",
    "\n",
    "# Get the total number of bytes consumed by arr1\n",
    "bytes_arr1 = arr1.nbytes\n",
    "\n",
    "# Get the total number of bytes consumed by arr2\n",
    "bytes_arr2 = arr2.nbytes\n",
    "\n",
    "# Get the total number of bytes consumed by arr3\n",
    "bytes_arr3 = arr3.nbytes\n",
    "\n",
    "# Get the total number of bytes consumed by arr4\n",
    "bytes_arr4 = arr4.nbytes\n",
    "\n",
    "# Print the total number of bytes for all arrays\n",
    "print(\"Total bytes consumed by arr1:\", bytes_arr1)\n",
    "print(\"Total bytes consumed by arr2:\", bytes_arr2)\n",
    "print(\"Total bytes consumed by arr3:\", bytes_arr3)\n",
    "print(\"Total bytes consumed by arr4:\", bytes_arr4)"
   ]
  },
  {
   "cell_type": "markdown",
   "id": "fa43fc1f-5eb5-4d4a-9629-5b94998ebef5",
   "metadata": {},
   "source": [
    "### Accessing/Changing specific elements, rows, columns, etc"
   ]
  },
  {
   "cell_type": "code",
   "execution_count": 12,
   "id": "086c66c3-a3c8-4c8d-9f6a-dcaf4aece2f1",
   "metadata": {},
   "outputs": [
    {
     "name": "stdout",
     "output_type": "stream",
     "text": [
      "[[1 2 3 4 5 6]\n",
      " [2 3 4 5 6 5]\n",
      " [3 4 2 5 7 8]]\n",
      "Element at [1, 4]: 6\n"
     ]
    }
   ],
   "source": [
    "# Create a 2D array with two rows and six columns\n",
    "arr5 = np.array([[1, 2, 3, 4, 5, 6], [2, 3, 4, 5, 6, 5],[3,4,2,5,7,8]])\n",
    "\n",
    "# Print the created array\n",
    "print(arr5)\n",
    "\n",
    "# Access a specific element\n",
    "# Syntax: array[row_index, column_index]\n",
    "element_at_rc = arr5[1, 4]\n",
    "print(\"Element at [1, 4]:\", element_at_rc)"
   ]
  },
  {
   "cell_type": "code",
   "execution_count": 13,
   "id": "e3c8888e-bf40-4af1-8056-335b281e939b",
   "metadata": {},
   "outputs": [
    {
     "name": "stdout",
     "output_type": "stream",
     "text": [
      "First row: [1 2 3 4 5 6]\n"
     ]
    }
   ],
   "source": [
    "# Access a specific row from the 2D array\n",
    "# Syntax: array[row_index, :] - Access all columns in the given row\n",
    "\n",
    "first_row = arr5[0, :]\n",
    "print(\"First row:\", first_row)"
   ]
  },
  {
   "cell_type": "code",
   "execution_count": 14,
   "id": "f4638455-6a20-4a86-8dc6-2c2b8769e1eb",
   "metadata": {},
   "outputs": [
    {
     "name": "stdout",
     "output_type": "stream",
     "text": [
      "Part of the first row from index 2: [3 4 5 6]\n"
     ]
    }
   ],
   "source": [
    "# Get a specific part of a row from the 2D array\n",
    "# Syntax: array[row_index, start_index:end_index:step_size] \n",
    "# Access elements from row 0, starting from index 2 onwards\n",
    "\n",
    "part_of_first_row = arr5[0, 2:]\n",
    "print(\"Part of the first row from index 2:\", part_of_first_row)"
   ]
  },
  {
   "cell_type": "code",
   "execution_count": 15,
   "id": "09b0bc20-7054-4f48-8980-f6494da7a779",
   "metadata": {},
   "outputs": [
    {
     "name": "stdout",
     "output_type": "stream",
     "text": [
      "[2 4 6]\n"
     ]
    }
   ],
   "source": [
    "# Access elements from row 0, starting at index 1, and take every 2nd element thereafter\n",
    "part_of_first_row_step = arr5[0, 1::2]\n",
    "\n",
    "print(part_of_first_row_step)"
   ]
  },
  {
   "cell_type": "code",
   "execution_count": 16,
   "id": "50f9cdf9-9675-4591-923f-d58e126d4164",
   "metadata": {},
   "outputs": [
    {
     "name": "stdout",
     "output_type": "stream",
     "text": [
      "[3 4 2]\n"
     ]
    }
   ],
   "source": [
    "# Access a specific column from the 2D array\n",
    "# Syntax: array[:, column_index] - Access all rows in the given column\n",
    "\n",
    "third_column = arr5[:, 2]\n",
    "print(third_column)"
   ]
  },
  {
   "cell_type": "code",
   "execution_count": 17,
   "id": "d28a1d45-773a-4e99-8077-71a05e5c5e00",
   "metadata": {},
   "outputs": [
    {
     "name": "stdout",
     "output_type": "stream",
     "text": [
      "[2 3]\n"
     ]
    }
   ],
   "source": [
    "# Get a specific part of a column from the 2D array\n",
    "# Syntax: array[start_index:end_index:step_size, column_index] - starting from a specific row with optional step size\n",
    "\n",
    "part_of_first_column = arr5[1:, 0]\n",
    "print(part_of_first_column)"
   ]
  },
  {
   "cell_type": "code",
   "execution_count": 18,
   "id": "f9a97082-23ba-4ca0-83e2-8b4cb2882b92",
   "metadata": {},
   "outputs": [
    {
     "name": "stdout",
     "output_type": "stream",
     "text": [
      "[[ 1  2  3  4  5  6]\n",
      " [ 2  3  4  5  6 15]\n",
      " [ 3  4  2  5  7  8]]\n"
     ]
    }
   ],
   "source": [
    "# Modifying an element in the 2D array\n",
    "# Access and modify the element at row 1, column 5\n",
    "arr5[1, 5] = 15\n",
    "\n",
    "# Print the modified array\n",
    "print(arr5)"
   ]
  },
  {
   "cell_type": "code",
   "execution_count": 19,
   "id": "1fb02f03-03a7-4970-b3be-a519e37c975c",
   "metadata": {},
   "outputs": [
    {
     "name": "stdout",
     "output_type": "stream",
     "text": [
      "[[ 1  2  3  4  5 15]\n",
      " [ 2  3  4  5  6 15]\n",
      " [ 3  4  2  5  7 15]]\n"
     ]
    }
   ],
   "source": [
    "# Modifying an entire column in the 2D array\n",
    "# Access and modify all elements in column 6 (index 5) to the value 15\n",
    "arr5[:, 5] = 15\n",
    "\n",
    "# Print the modified array\n",
    "print(arr5)"
   ]
  },
  {
   "cell_type": "code",
   "execution_count": 20,
   "id": "09784553-7313-486f-99e4-30a7c0dcf6ec",
   "metadata": {},
   "outputs": [
    {
     "name": "stdout",
     "output_type": "stream",
     "text": [
      "[[15 15 15 15 15 15]\n",
      " [15 15 15 15 15 15]\n",
      " [15 15 15 15 15 15]]\n"
     ]
    }
   ],
   "source": [
    "# Modifying all elements in the 2D array\n",
    "# Set all elements in the array to the value 15\n",
    "arr5[:] = 15\n",
    "\n",
    "# Print the modified array\n",
    "print(arr5)"
   ]
  },
  {
   "cell_type": "code",
   "execution_count": 21,
   "id": "bd1d8362-a487-4091-97c1-c4a7a7fc31f8",
   "metadata": {},
   "outputs": [
    {
     "name": "stdout",
     "output_type": "stream",
     "text": [
      "[[15 15 15 15 15 15]\n",
      " [16 16 16 16 16 16]\n",
      " [15 15 15 15 15 15]]\n"
     ]
    }
   ],
   "source": [
    "# Modifying an entire row in the 2D array\n",
    "# Access and modify all elements in row 1 to the value 16\n",
    "arr5[1] = 16\n",
    "\n",
    "# Print the modified array\n",
    "print(arr5)"
   ]
  },
  {
   "cell_type": "code",
   "execution_count": 22,
   "id": "4889c634-65b1-41bc-a4bd-4376008fbe64",
   "metadata": {},
   "outputs": [
    {
     "name": "stdout",
     "output_type": "stream",
     "text": [
      "[[15 15 17 15 15 15]\n",
      " [16 16 18 16 16 16]\n",
      " [15 15 19 15 15 15]]\n"
     ]
    }
   ],
   "source": [
    "# Modifying a specific column in the 2D array\n",
    "# Set the elements in column 3 (index 2) to the values [17, 18]\n",
    "arr5[:, 2] = [17, 18, 19]\n",
    "\n",
    "# Print the modified array\n",
    "print(arr5)"
   ]
  },
  {
   "cell_type": "code",
   "execution_count": 23,
   "id": "a1cc2bee-51e5-46e0-9480-e5a08e776881",
   "metadata": {},
   "outputs": [
    {
     "name": "stdout",
     "output_type": "stream",
     "text": [
      "[[[1 2]\n",
      "  [3 4]]\n",
      "\n",
      " [[5 6]\n",
      "  [7 8]]]\n"
     ]
    }
   ],
   "source": [
    "# Create a 3D array with two blocks, each containing two rows and two columns\n",
    "arr3d = np.array([[[1, 2], [3, 4]], [[5, 6], [7, 8]]])\n",
    "\n",
    "# Print the created 3D array\n",
    "print(arr3d)"
   ]
  },
  {
   "cell_type": "code",
   "execution_count": 24,
   "id": "376ca273-b932-461a-be6d-2714ea19a2ea",
   "metadata": {},
   "outputs": [
    {
     "name": "stdout",
     "output_type": "stream",
     "text": [
      "[[5 6]\n",
      " [7 8]]\n"
     ]
    }
   ],
   "source": [
    "# Access a specific block from the 3D array\n",
    "# Work outside in: First access the block, then the rows and columns inside it\n",
    "print(arr3d[1])"
   ]
  },
  {
   "cell_type": "code",
   "execution_count": 25,
   "id": "07a0a5ce-731c-43ef-8cd5-d1b6de44e4d8",
   "metadata": {},
   "outputs": [
    {
     "name": "stdout",
     "output_type": "stream",
     "text": [
      "[5 6]\n"
     ]
    }
   ],
   "source": [
    "# Access a specific row from a specific block in the 3D array\n",
    "print(arr3d[1, 0])"
   ]
  },
  {
   "cell_type": "code",
   "execution_count": 26,
   "id": "edeac137-4310-4a39-bbcd-78d5274d77be",
   "metadata": {},
   "outputs": [
    {
     "name": "stdout",
     "output_type": "stream",
     "text": [
      "1\n"
     ]
    }
   ],
   "source": [
    "# Access a specific element from a specific block, row, and column in the 3D array\n",
    "print(arr3d[0, 0, 0])"
   ]
  },
  {
   "cell_type": "code",
   "execution_count": 27,
   "id": "7f71935b-5c49-40ec-9ef7-01c5524db57c",
   "metadata": {},
   "outputs": [
    {
     "name": "stdout",
     "output_type": "stream",
     "text": [
      "7\n"
     ]
    }
   ],
   "source": [
    "# Access a specific element from a specific block, row, and column in the 3D array\n",
    "print(arr3d[1, 1, 0])"
   ]
  },
  {
   "cell_type": "code",
   "execution_count": 28,
   "id": "428dd11a-7072-4c45-a803-bb69f89bc57f",
   "metadata": {},
   "outputs": [
    {
     "name": "stdout",
     "output_type": "stream",
     "text": [
      "[[[ 1  2]\n",
      "  [10 11]]\n",
      "\n",
      " [[ 5  6]\n",
      "  [10 11]]]\n"
     ]
    }
   ],
   "source": [
    "# Replace the entire second row (index 1) of each block in the 3D array\n",
    "# Set the second row of all blocks to [10, 11]\n",
    "arr3d[:, 1, :] = [10, 11]\n",
    "\n",
    "# Print the modified array\n",
    "print(arr3d)"
   ]
  },
  {
   "cell_type": "code",
   "execution_count": 29,
   "id": "96e5fa4d-5910-4b85-a09b-3adb511e0bff",
   "metadata": {},
   "outputs": [
    {
     "name": "stdout",
     "output_type": "stream",
     "text": [
      "[[ 1 10]\n",
      " [ 5 10]]\n"
     ]
    }
   ],
   "source": [
    "# Access the first column (index 0) of all rows in each block of the 3D array\n",
    "# This will extract the first column from all rows in both blocks\n",
    "print(arr3d[:,:, 0])"
   ]
  },
  {
   "cell_type": "code",
   "execution_count": 30,
   "id": "2a74bff8-2221-45c0-9573-c983ec37e7af",
   "metadata": {},
   "outputs": [
    {
     "name": "stdout",
     "output_type": "stream",
     "text": [
      "[[[ 0  2]\n",
      "  [ 0 11]]\n",
      "\n",
      " [[ 0  6]\n",
      "  [ 0 11]]]\n"
     ]
    }
   ],
   "source": [
    "# Replace the first column (index 0) of all rows in each block with [0, 0]\n",
    "arr3d[:,:, 0] = [[0, 0], [0, 0]]\n",
    "\n",
    "# Print the modified array\n",
    "print(arr3d)"
   ]
  },
  {
   "cell_type": "code",
   "execution_count": 31,
   "id": "82de0bf1-69b5-4bd4-87fe-6f27d209f5d0",
   "metadata": {},
   "outputs": [
    {
     "name": "stdout",
     "output_type": "stream",
     "text": [
      "[[[ 0  2]\n",
      "  [10 11]]\n",
      "\n",
      " [[ 0  6]\n",
      "  [12 13]]]\n"
     ]
    }
   ],
   "source": [
    "# Replace the second row (index 1) in each block with [10, 11] and [12, 13] respectively\n",
    "arr3d[:, 1, :] = [[10, 11], [12, 13]]\n",
    "\n",
    "# Print the modified array\n",
    "print(arr3d)"
   ]
  },
  {
   "cell_type": "markdown",
   "id": "d8e4603d-bb69-4fc1-85cd-62f1b2ffd73a",
   "metadata": {},
   "source": [
    "### Initializing different types of Arrays"
   ]
  },
  {
   "cell_type": "code",
   "execution_count": 32,
   "id": "07d0e6d2-d0b0-4f80-a888-3ef7704434f5",
   "metadata": {},
   "outputs": [
    {
     "name": "stdout",
     "output_type": "stream",
     "text": [
      "[0. 0. 0. 0. 0. 0. 0. 0. 0. 0.]\n"
     ]
    }
   ],
   "source": [
    "# Create a 1D array of 0's with 10 elements\n",
    "zeros_arr = np.zeros(10)\n",
    "\n",
    "# Print the array of zeros\n",
    "print(zeros_arr)"
   ]
  },
  {
   "cell_type": "code",
   "execution_count": 33,
   "id": "8c220b60-b394-43d2-a6c5-22d0056af5c0",
   "metadata": {},
   "outputs": [
    {
     "name": "stdout",
     "output_type": "stream",
     "text": [
      "[[0 0 0]\n",
      " [0 0 0]]\n"
     ]
    }
   ],
   "source": [
    "# Create a 2x3 matrix of 0's with dtype int16\n",
    "zeros_matrix = np.zeros([2, 3], dtype=\"int16\")\n",
    "\n",
    "# Print the 2x3 matrix of zeros\n",
    "print(zeros_matrix)"
   ]
  },
  {
   "cell_type": "code",
   "execution_count": 34,
   "id": "adf6fc8a-e123-4f87-998b-7c0022d2da59",
   "metadata": {},
   "outputs": [
    {
     "name": "stdout",
     "output_type": "stream",
     "text": [
      "[1. 1. 1. 1. 1. 1. 1. 1. 1. 1.]\n"
     ]
    }
   ],
   "source": [
    "# Create a 1D array of 1's with 10 elements\n",
    "ones_arr = np.ones(10)\n",
    "\n",
    "# Print the array of ones\n",
    "print(ones_arr)"
   ]
  },
  {
   "cell_type": "code",
   "execution_count": 35,
   "id": "bbf2c93d-318a-49ae-9935-988ab1a22185",
   "metadata": {},
   "outputs": [
    {
     "name": "stdout",
     "output_type": "stream",
     "text": [
      "[[1 1 1]\n",
      " [1 1 1]]\n"
     ]
    }
   ],
   "source": [
    "# Create a 2x3 matrix of 1's with dtype int16\n",
    "ones_matrix = np.ones([2, 3], dtype=\"int16\")\n",
    "\n",
    "# Print the 2x3 matrix of ones\n",
    "print(ones_matrix)"
   ]
  },
  {
   "cell_type": "code",
   "execution_count": 36,
   "id": "198328c6-db9e-4543-a3c4-07b044284968",
   "metadata": {},
   "outputs": [
    {
     "name": "stdout",
     "output_type": "stream",
     "text": [
      "[[99 99]\n",
      " [99 99]]\n"
     ]
    }
   ],
   "source": [
    "# Create a 2x2 matrix filled with the number 99\n",
    "full_matrix = np.full([2, 2], 99)\n",
    "\n",
    "# Print the matrix filled with 99\n",
    "print(full_matrix)"
   ]
  },
  {
   "cell_type": "code",
   "execution_count": 37,
   "id": "3c2804ec-c224-421a-ae17-f209abf64f8d",
   "metadata": {},
   "outputs": [
    {
     "name": "stdout",
     "output_type": "stream",
     "text": [
      "[[1 2]\n",
      " [1 2]\n",
      " [1 2]]\n"
     ]
    }
   ],
   "source": [
    "# Create a 3x2 matrix where each row is filled with [1, 2]\n",
    "full_matrix_rows = np.full([3, 2], [1, 2])\n",
    "\n",
    "# Print the matrix\n",
    "print(full_matrix_rows)"
   ]
  },
  {
   "cell_type": "code",
   "execution_count": 38,
   "id": "cf34bf57-f7c8-4941-a0e6-ecef9e785135",
   "metadata": {},
   "outputs": [
    {
     "name": "stdout",
     "output_type": "stream",
     "text": [
      "[[[4 4 4 4 4]\n",
      "  [4 4 4 4 4]]\n",
      "\n",
      " [[4 4 4 4 4]\n",
      "  [4 4 4 4 4]]]\n"
     ]
    }
   ],
   "source": [
    "# Create an array with the same shape and type as 'arr4', filled with the number 4\n",
    "full_like_arr4 = np.full_like(arr4, 4)\n",
    "\n",
    "# Print the array filled with 4's\n",
    "print(full_like_arr4)"
   ]
  },
  {
   "cell_type": "code",
   "execution_count": 39,
   "id": "9b63c9e6-38bb-4f44-ab6e-4405964c9ebc",
   "metadata": {},
   "outputs": [
    {
     "name": "stdout",
     "output_type": "stream",
     "text": [
      "[[0.46875773 0.51397353 0.96864371]\n",
      " [0.11158038 0.04399114 0.52498783]]\n"
     ]
    }
   ],
   "source": [
    "# Create a 2x3 array with random decimal numbers between 0 and 1\n",
    "random_decimals_matrix = np.random.rand(2, 3)\n",
    "\n",
    "# Print the array with random decimal numbers\n",
    "print(random_decimals_matrix)\n",
    "\n",
    "# np.random.rand() expects the shape of the array as separate integers"
   ]
  },
  {
   "cell_type": "code",
   "execution_count": 40,
   "id": "23f4a8b4-a5f8-42e0-b2e5-b1d112c67a33",
   "metadata": {},
   "outputs": [
    {
     "name": "stdout",
     "output_type": "stream",
     "text": [
      "[[[0.47685072 0.68202399 0.50757619 0.16081002 0.91168005]\n",
      "  [0.14241204 0.59890409 0.11259136 0.54451399 0.85319535]]\n",
      "\n",
      " [[0.17307307 0.85880481 0.31174735 0.40836648 0.91363704]\n",
      "  [0.81535291 0.05421918 0.68598056 0.5648272  0.36721116]]]\n"
     ]
    }
   ],
   "source": [
    "# Create an array with random decimal numbers between 0 and 1, with the same shape as 'a'\n",
    "random_sample_arr = np.random.random_sample(arr4.shape)\n",
    "\n",
    "# Print the array with random decimal numbers\n",
    "print(random_sample_arr)"
   ]
  },
  {
   "cell_type": "code",
   "execution_count": 41,
   "id": "bb96bd3b-d489-4a93-8680-6f0eef28c252",
   "metadata": {},
   "outputs": [
    {
     "name": "stdout",
     "output_type": "stream",
     "text": [
      "[[0 0 0]\n",
      " [0 1 1]\n",
      " [0 1 0]]\n"
     ]
    }
   ],
   "source": [
    "# Create a 3x3 array with random integers between 0 and 2\n",
    "random_integers_array = np.random.randint(2, size=[3, 3])\n",
    "\n",
    "# Print the array of random integers\n",
    "print(random_integers_array)"
   ]
  },
  {
   "cell_type": "code",
   "execution_count": 42,
   "id": "90ca4689-4a59-4ff9-8a90-118992fd11df",
   "metadata": {},
   "outputs": [
    {
     "name": "stdout",
     "output_type": "stream",
     "text": [
      "[[7 2 7]\n",
      " [7 7 5]\n",
      " [3 6 4]]\n"
     ]
    }
   ],
   "source": [
    "# Create a 3x3 array with random integers between 2 (inclusive) and 8 (exclusive)\n",
    "rand_ints = np.random.randint(2, 8, [3, 3])\n",
    "\n",
    "# Print the array of random integers\n",
    "print(rand_ints)"
   ]
  },
  {
   "cell_type": "code",
   "execution_count": 43,
   "id": "a7b04b41-43bc-434c-81e0-e593b05dd770",
   "metadata": {},
   "outputs": [
    {
     "name": "stdout",
     "output_type": "stream",
     "text": [
      "[[1 0 0]\n",
      " [0 1 0]\n",
      " [0 0 1]]\n"
     ]
    }
   ],
   "source": [
    "# Create a 3x3 identity matrix with dtype int16\n",
    "identity_matrix = np.identity(3, dtype=\"int16\")\n",
    "\n",
    "# Print the identity matrix\n",
    "print(identity_matrix)"
   ]
  },
  {
   "cell_type": "code",
   "execution_count": 44,
   "id": "32d0fdb4-b5d1-4a5f-bccd-51412bf96001",
   "metadata": {},
   "outputs": [
    {
     "name": "stdout",
     "output_type": "stream",
     "text": [
      "[1 1 1 2 2 2 3 3 3]\n"
     ]
    }
   ],
   "source": [
    "# Create a 1D array\n",
    "arr_base = np.array([1, 2, 3])\n",
    "\n",
    "# Repeat each element in the array 3 times\n",
    "repeated_arr = np.repeat(arr_base, 3)\n",
    "\n",
    "# Print the resulting array with repeated elements\n",
    "print(repeated_arr)"
   ]
  },
  {
   "cell_type": "code",
   "execution_count": 45,
   "id": "1d5b52c9-9607-4fab-98b3-72fc1d86bc0f",
   "metadata": {},
   "outputs": [
    {
     "name": "stdout",
     "output_type": "stream",
     "text": [
      "[[1 2 3]\n",
      " [1 2 3]\n",
      " [1 2 3]]\n"
     ]
    }
   ],
   "source": [
    "# Create a 2D array\n",
    "arr_2d = np.array([[1, 2, 3]])\n",
    "\n",
    "# Repeat the rows of the array 3 times along axis 0\n",
    "repeated_rows_arr = np.repeat(arr_2d, 3, axis=0)\n",
    "\n",
    "# Print the resulting array with repeated rows\n",
    "print(repeated_rows_arr)"
   ]
  },
  {
   "cell_type": "markdown",
   "id": "231976ae-0517-4b02-b645-37cdbce319dd",
   "metadata": {},
   "source": [
    "### Array Rearrangement and Copying"
   ]
  },
  {
   "cell_type": "code",
   "execution_count": 46,
   "id": "bf5c18e0-1e19-48fc-b7d5-91f4acbbbfbc",
   "metadata": {},
   "outputs": [
    {
     "name": "stdout",
     "output_type": "stream",
     "text": [
      "Original array (arr_orig): [1 2 3]\n",
      "Referenced array (arr_ref): [1 2 3] \n",
      "\n",
      "Modified original array (arr_orig): [100   2   3]\n",
      "Modified referenced array (arr_ref): [100   2   3] \n",
      "\n",
      "Original array (arr_orig) after copy: [100   2   3]\n",
      "Copied array (arr_copy): [200   2   3]\n"
     ]
    }
   ],
   "source": [
    "# Create a NumPy array\n",
    "arr_orig = np.array([1, 2, 3])\n",
    "\n",
    "# Reference arr_ref to arr_orig (not a copy)\n",
    "arr_ref = arr_orig\n",
    "\n",
    "# Printing original and referenced arrays\n",
    "print(\"Original array (arr_orig):\", arr_orig)\n",
    "print(\"Referenced array (arr_ref):\", arr_ref, \"\\n\")\n",
    "\n",
    "# Modifying the first element of arr_ref, which also affects arr_orig\n",
    "arr_ref[0] = 100\n",
    "\n",
    "# Printing both arrays after modification\n",
    "print(\"Modified original array (arr_orig):\", arr_orig)\n",
    "print(\"Modified referenced array (arr_ref):\", arr_ref, \"\\n\")\n",
    "\n",
    "# To avoid this shared reference and create a true copy, we use the .copy() method\n",
    "arr_copy = arr_orig.copy()\n",
    "arr_copy[0] = 200\n",
    "\n",
    "# Printing after creating a true copy\n",
    "print(\"Original array (arr_orig) after copy:\", arr_orig)\n",
    "print(\"Copied array (arr_copy):\", arr_copy)"
   ]
  },
  {
   "cell_type": "code",
   "execution_count": 47,
   "id": "25ec964d-a8a3-46ea-b225-b3a407b43422",
   "metadata": {},
   "outputs": [
    {
     "name": "stdout",
     "output_type": "stream",
     "text": [
      "[[1 2]\n",
      " [3 4]\n",
      " [5 6]\n",
      " [7 8]]\n"
     ]
    }
   ],
   "source": [
    "# Create a 2D NumPy array\n",
    "arr2d = np.array([[1, 2, 3, 4], [5, 6, 7, 8]])\n",
    "\n",
    "# Resize the array to a new shape (4, 2)\n",
    "# The resized array will be filled by repeating the original array if necessary\n",
    "resized_arr = np.resize(arr2d, (4, 2))\n",
    "\n",
    "# Print the resized array\n",
    "print(resized_arr)"
   ]
  },
  {
   "cell_type": "code",
   "execution_count": 48,
   "id": "ba3c9fa2-592c-43f8-b66f-2696b861730b",
   "metadata": {},
   "outputs": [
    {
     "name": "stdout",
     "output_type": "stream",
     "text": [
      "[[1 2 3 4]\n",
      " [5 6 7 8]\n",
      " [1 2 3 4]\n",
      " [5 6 7 8]]\n"
     ]
    }
   ],
   "source": [
    "# Resize the array to a new shape (4, 4)\n",
    "# The resized array will repeat the original array's values to fill the new shape\n",
    "resized_arr2 = np.resize(arr2d, (4, 4))\n",
    "\n",
    "# Print the resized array\n",
    "print(resized_arr2)"
   ]
  },
  {
   "cell_type": "code",
   "execution_count": 49,
   "id": "2c39824d-ddc0-49d6-ab27-d527de9a9d68",
   "metadata": {},
   "outputs": [
    {
     "name": "stdout",
     "output_type": "stream",
     "text": [
      "[[1 2 3]\n",
      " [4 5 6]\n",
      " [7 8 1]\n",
      " [2 3 4]]\n"
     ]
    }
   ],
   "source": [
    "# Resize the array to shape (4, 3)\n",
    "resized_arr3 = np.resize(arr2d, (4, 3))\n",
    "\n",
    "# Print the resized array\n",
    "print(resized_arr3)"
   ]
  },
  {
   "cell_type": "code",
   "execution_count": 50,
   "id": "bda0983a-c771-4dd2-8546-03e5b7650332",
   "metadata": {},
   "outputs": [
    {
     "name": "stdout",
     "output_type": "stream",
     "text": [
      "[[1 2]\n",
      " [3 4]\n",
      " [5 6]\n",
      " [7 8]]\n"
     ]
    }
   ],
   "source": [
    "# Reshape the array to shape (4, 2)\n",
    "# The reshape operation will rearrange the data without modifying it\n",
    "# It's important to note that the new shape must have the same total number of elements as the original array\n",
    "\n",
    "reshaped_arr = np.reshape(arr2d, (4, 2))\n",
    "\n",
    "# Print the reshaped array\n",
    "print(reshaped_arr)"
   ]
  },
  {
   "cell_type": "code",
   "execution_count": 51,
   "id": "c0df85cf-6a7c-44c9-b6a4-a4fe52238f02",
   "metadata": {
    "scrolled": true
   },
   "outputs": [
    {
     "name": "stdout",
     "output_type": "stream",
     "text": [
      "[[1]\n",
      " [2]\n",
      " [3]\n",
      " [4]\n",
      " [5]\n",
      " [6]\n",
      " [7]\n",
      " [8]]\n"
     ]
    }
   ],
   "source": [
    "# Reshape the array to shape (8, 1)\n",
    "# This is valid because the total number of elements (8) remains the same.\n",
    "reshaped_arr1 = np.reshape(arr2d,(8,1))\n",
    "print(reshaped_arr1)"
   ]
  },
  {
   "cell_type": "code",
   "execution_count": 52,
   "id": "fd9b7a41-7e78-47c3-9370-b5c8361588e3",
   "metadata": {},
   "outputs": [
    {
     "name": "stdout",
     "output_type": "stream",
     "text": [
      "[1 2 3 4 5 6 7 8]\n"
     ]
    }
   ],
   "source": [
    "# Flatten the array into a 1D array\n",
    "flattened_arr = arr2d.flatten()\n",
    "\n",
    "# Print the flattened array\n",
    "print(flattened_arr)"
   ]
  },
  {
   "cell_type": "code",
   "execution_count": 53,
   "id": "bf40adf8-57e8-439d-af96-64fd08ec7010",
   "metadata": {},
   "outputs": [
    {
     "name": "stdout",
     "output_type": "stream",
     "text": [
      "[[1 2 3 4 5]\n",
      " [6 7 8 9 0]]\n"
     ]
    }
   ],
   "source": [
    "v1 = np.array([1, 2, 3, 4, 5])\n",
    "v2 = np.array([6, 7, 8, 9, 0])\n",
    "\n",
    "# Vertically stacking v1 and v2\n",
    "result = np.vstack([v1, v2])\n",
    "print(result)\n",
    "\n",
    "#For vertical stacking, the number of columns must be the same for all arrays being stacked"
   ]
  },
  {
   "cell_type": "code",
   "execution_count": 54,
   "id": "b5fd57e9-3700-41b1-be5f-9d951eee572a",
   "metadata": {},
   "outputs": [
    {
     "name": "stdout",
     "output_type": "stream",
     "text": [
      "[1 2 3 4 5 6 7 8 9 0]\n"
     ]
    }
   ],
   "source": [
    "v1 = np.array([1, 2, 3, 4, 5])\n",
    "v2 = np.array([6, 7, 8, 9, 0])\n",
    "\n",
    "# Horizontally stacking v1 and v2\n",
    "result = np.hstack([v1, v2])\n",
    "print(result)\n",
    "\n",
    "#For horizontal stacking, the number of rows must be the same for all arrays being stacked"
   ]
  },
  {
   "cell_type": "markdown",
   "id": "2bc9c48b-cbd0-44cf-9428-1188f862a6a4",
   "metadata": {},
   "source": [
    "### Mathematics"
   ]
  },
  {
   "cell_type": "code",
   "execution_count": 55,
   "id": "a5c73e53-a77d-4cd9-bcc7-c3ccb1e1d7fe",
   "metadata": {},
   "outputs": [
    {
     "name": "stdout",
     "output_type": "stream",
     "text": [
      "Array A:\n",
      "[[1 2]\n",
      " [3 4]]\n",
      "\n",
      "Array B:\n",
      "[[5 6]\n",
      " [7 8]]\n"
     ]
    }
   ],
   "source": [
    "# Creating 2D arrays A and B\n",
    "A = np.array([[1, 2], [3, 4]])\n",
    "B = np.array([[5, 6], [7, 8]])\n",
    "\n",
    "print(\"Array A:\")\n",
    "print(A)\n",
    "\n",
    "print(\"\\nArray B:\")\n",
    "print(B)"
   ]
  },
  {
   "cell_type": "code",
   "execution_count": 56,
   "id": "a7593266-8c18-4fe2-ab99-4c0008fd43d0",
   "metadata": {},
   "outputs": [
    {
     "name": "stdout",
     "output_type": "stream",
     "text": [
      "Addition of 2 to each element in A:\n",
      "[[3 4]\n",
      " [5 6]]\n",
      "\n",
      "Subtraction of 2 from each element in A:\n",
      "[[-1  0]\n",
      " [ 1  2]]\n",
      "\n",
      "Multiplication of each element in A by 2:\n",
      "[[2 4]\n",
      " [6 8]]\n",
      "\n",
      "Division of each element in A by 2:\n",
      "[[0.5 1. ]\n",
      " [1.5 2. ]]\n",
      "\n",
      "Floor division of each element in A by 2:\n",
      "[[0 1]\n",
      " [1 2]]\n",
      "\n",
      "Modulo operation (remainder when divided by 2) on each element in A:\n",
      "[[1 0]\n",
      " [1 0]]\n",
      "\n",
      "Raising each element in A to the power of 2:\n",
      "[[ 1  4]\n",
      " [ 9 16]]\n"
     ]
    }
   ],
   "source": [
    "# Mechanism that is common for all operators\n",
    "# Result[i] = Array[i] operator value\n",
    "\n",
    "# Add 2 to each element of array A\n",
    "add_result = A + 2\n",
    "print(\"Addition of 2 to each element in A:\")\n",
    "print(add_result)\n",
    "\n",
    "# Subtract 2 from each element of array A\n",
    "sub_result = A - 2\n",
    "print(\"\\nSubtraction of 2 from each element in A:\")\n",
    "print(sub_result)\n",
    "\n",
    "# Multiply each element of array A by 2\n",
    "mul_result = A * 2\n",
    "print(\"\\nMultiplication of each element in A by 2:\")\n",
    "print(mul_result)\n",
    "\n",
    "# Divide each element of array A by 2\n",
    "div_result = A / 2\n",
    "print(\"\\nDivision of each element in A by 2:\")\n",
    "print(div_result)\n",
    "\n",
    "# Floor division of each element of array A by 2\n",
    "floor_div_result = A // 2\n",
    "print(\"\\nFloor division of each element in A by 2:\")\n",
    "print(floor_div_result)\n",
    "\n",
    "# Modulo operation on each element of array A by 2\n",
    "mod_result = A % 2\n",
    "print(\"\\nModulo operation (remainder when divided by 2) on each element in A:\")\n",
    "print(mod_result)\n",
    "\n",
    "# Element-wise power operation (raising each element to the power of 2)\n",
    "pow_result = A ** 2\n",
    "print(\"\\nRaising each element in A to the power of 2:\")\n",
    "print(pow_result)"
   ]
  },
  {
   "cell_type": "code",
   "execution_count": 57,
   "id": "88ecaf29-6743-4281-b802-9338139142a0",
   "metadata": {},
   "outputs": [
    {
     "name": "stdout",
     "output_type": "stream",
     "text": [
      "Addition of A and B:\n",
      "[[ 6  8]\n",
      " [10 12]]\n",
      "\n",
      "Subtraction of B from A:\n",
      "[[-4 -4]\n",
      " [-4 -4]]\n",
      "\n",
      "Multiplication of A and B:\n",
      "[[ 5 12]\n",
      " [21 32]]\n",
      "\n",
      "Division of A by B:\n",
      "[[0.2        0.33333333]\n",
      " [0.42857143 0.5       ]]\n",
      "\n",
      "Floor division of A by B:\n",
      "[[0 0]\n",
      " [0 0]]\n",
      "\n",
      "Modulo operation (remainder when A is divided by B):\n",
      "[[1 2]\n",
      " [3 4]]\n",
      "\n",
      "Exponentiation: A raised to the power of B:\n",
      "[[    1    64]\n",
      " [ 2187 65536]]\n"
     ]
    }
   ],
   "source": [
    "# Mechanism that is common for all operators\n",
    "# Result[i, j] = Array1[i, j] operator Array2[i, j]\n",
    "\n",
    "# Add arrays A and B\n",
    "add_result = A + B\n",
    "print(\"Addition of A and B:\")\n",
    "print(add_result)\n",
    "\n",
    "# Subtract array B from array A\n",
    "sub_result = A - B\n",
    "print(\"\\nSubtraction of B from A:\")\n",
    "print(sub_result)\n",
    "\n",
    "# Multiply arrays A and B\n",
    "mul_result = A * B\n",
    "print(\"\\nMultiplication of A and B:\")\n",
    "print(mul_result)\n",
    "\n",
    "# Divide array A by array B\n",
    "div_result = A / B\n",
    "print(\"\\nDivision of A by B:\")\n",
    "print(div_result)\n",
    "\n",
    "# Floor divide array A by array B\n",
    "floor_div_result = A // B\n",
    "print(\"\\nFloor division of A by B:\")\n",
    "print(floor_div_result)\n",
    "\n",
    "# Modulo operation (remainder when A is divided by B)\n",
    "mod_result = A % B\n",
    "print(\"\\nModulo operation (remainder when A is divided by B):\")\n",
    "print(mod_result)\n",
    "\n",
    "# Exponentiation (A raised to the power of B)\n",
    "pow_result = A ** B\n",
    "print(\"\\nExponentiation: A raised to the power of B:\")\n",
    "print(pow_result)"
   ]
  },
  {
   "cell_type": "code",
   "execution_count": 58,
   "id": "89c26bcb-bbd4-466d-94df-38107d2f86ee",
   "metadata": {},
   "outputs": [
    {
     "name": "stdout",
     "output_type": "stream",
     "text": [
      "Sine of each angle in degrees : \n",
      "[ 0.         -0.98803162  0.85090352 -0.30481062  0.89399666]\n",
      "Sine of each angle in radians : \n",
      "[0.         0.5        0.70710678 0.8660254  1.        ]\n"
     ]
    }
   ],
   "source": [
    "# Take the sine of each element in array a (Element-wise sine)\n",
    "\n",
    "# Compute sine of each angle in degrees\n",
    "angles_deg = np.array([0, 30, 45, 60, 90])\n",
    "sin_res1 = np.sin(angles_deg)\n",
    "print(\"Sine of each angle in degrees : \")\n",
    "print(sin_res1)\n",
    "\n",
    "# Compute sine of each angle in radians\n",
    "angles_rad = np.radians(angles_deg)\n",
    "sin_res2 = np.sin(angles_rad)\n",
    "print(\"Sine of each angle in radians : \")\n",
    "print(sin_res2)"
   ]
  },
  {
   "cell_type": "markdown",
   "id": "13cb80fa-3fbd-45b2-a6bb-f4d8ffc365b0",
   "metadata": {},
   "source": [
    "### Linear Algebra"
   ]
  },
  {
   "cell_type": "code",
   "execution_count": 59,
   "id": "c1decf7c-ff07-48fb-aa2e-e8c1224a4f99",
   "metadata": {},
   "outputs": [
    {
     "name": "stdout",
     "output_type": "stream",
     "text": [
      "[[6 6]\n",
      " [6 6]]\n"
     ]
    }
   ],
   "source": [
    "# Matrix multiplication (Dot product of mat1 and mat2)\n",
    "\n",
    "# mat1 is a 2x3 matrix filled with ones\n",
    "mat1 = np.ones([2, 3], dtype=\"int16\")\n",
    "\n",
    "# mat2 is a 3x2 matrix filled with the number 2\n",
    "mat2 = np.full([3, 2], 2, dtype=\"int16\")\n",
    "\n",
    "# Perform matrix multiplication using np.matmul()\n",
    "result = np.matmul(mat1, mat2)\n",
    "\n",
    "# Print the result of matrix multiplication\n",
    "print(result)"
   ]
  },
  {
   "cell_type": "code",
   "execution_count": 60,
   "id": "b1f50afd-6565-4f58-8765-5750e64d5efe",
   "metadata": {},
   "outputs": [],
   "source": [
    "# mat3 = np.ones([2,3], dtype=\"int16\")\n",
    "# mat4 = np.full([2,3], 2, dtype=\"int16\")\n",
    "# print(np.matmul(m1,m2))\n",
    "\n",
    "# Not possible because for matrix multiplication, the number of columns in mat3 (3) \n",
    "# must equal the number of rows in mat4 (2). Therefore, the operation cannot be performed."
   ]
  },
  {
   "cell_type": "code",
   "execution_count": 61,
   "id": "85236f63-8648-4057-bf4b-b57140acb801",
   "metadata": {},
   "outputs": [
    {
     "name": "stdout",
     "output_type": "stream",
     "text": [
      "1.0\n"
     ]
    }
   ],
   "source": [
    "# Find the determinant\n",
    "mat5 = np.identity(3, dtype=\"int16\")\n",
    "print(np.linalg.det(mat5))"
   ]
  },
  {
   "cell_type": "code",
   "execution_count": 62,
   "id": "305b7abb-cb1e-48a5-b981-70ba311a5c93",
   "metadata": {},
   "outputs": [
    {
     "name": "stdout",
     "output_type": "stream",
     "text": [
      "[ 1  6 11 16]\n"
     ]
    }
   ],
   "source": [
    "# Create a 4x4 matrix with arbitrary values\n",
    "mat6 = np.array([[1, 2, 3, 4], [5, 6, 7, 8], [9, 10, 11, 12], [13, 14, 15, 16]])\n",
    "\n",
    "# Get the diagonal elements of mat6\n",
    "print(np.diagonal(mat6))"
   ]
  },
  {
   "cell_type": "code",
   "execution_count": 63,
   "id": "d2b118e9-99b4-4162-9ed9-747fd075c360",
   "metadata": {},
   "outputs": [
    {
     "name": "stdout",
     "output_type": "stream",
     "text": [
      "[ 1  6 11 16]\n"
     ]
    }
   ],
   "source": [
    "# Get the diagonal elements of mat6\n",
    "print(np.linalg.diagonal(mat6))"
   ]
  },
  {
   "cell_type": "code",
   "execution_count": 64,
   "id": "173234ca-79db-494f-ba76-80f253b33c43",
   "metadata": {},
   "outputs": [
    {
     "name": "stdout",
     "output_type": "stream",
     "text": [
      "34\n"
     ]
    }
   ],
   "source": [
    "# Find the trace of mat6\n",
    "print(np.trace(mat6))"
   ]
  },
  {
   "cell_type": "code",
   "execution_count": 65,
   "id": "24902d6c-4651-4824-a3e8-24ccc45b14ca",
   "metadata": {},
   "outputs": [
    {
     "name": "stdout",
     "output_type": "stream",
     "text": [
      "34\n"
     ]
    }
   ],
   "source": [
    "# Find the trace of mat6\n",
    "print(np.linalg.trace(mat6))"
   ]
  },
  {
   "cell_type": "code",
   "execution_count": 66,
   "id": "bae6aa04-5a04-402b-82a2-0c358ead246d",
   "metadata": {},
   "outputs": [
    {
     "name": "stdout",
     "output_type": "stream",
     "text": [
      "2\n"
     ]
    }
   ],
   "source": [
    "#Find the rank of mat6\n",
    "print(np.linalg.matrix_rank(mat6))"
   ]
  },
  {
   "cell_type": "code",
   "execution_count": 67,
   "id": "440df38c-1baf-4fe0-9783-02b00b10aaaf",
   "metadata": {},
   "outputs": [
    {
     "name": "stdout",
     "output_type": "stream",
     "text": [
      "[[ 1  5  9 13]\n",
      " [ 2  6 10 14]\n",
      " [ 3  7 11 15]\n",
      " [ 4  8 12 16]]\n"
     ]
    }
   ],
   "source": [
    "#Find the transpose of mat6\n",
    "print(np.linalg.matrix_transpose(mat6))"
   ]
  },
  {
   "cell_type": "code",
   "execution_count": 68,
   "id": "d9821dc1-e883-497e-a28a-f8a1cc5956f5",
   "metadata": {},
   "outputs": [
    {
     "data": {
      "text/plain": [
       "array([[ 1,  5,  9, 13],\n",
       "       [ 2,  6, 10, 14],\n",
       "       [ 3,  7, 11, 15],\n",
       "       [ 4,  8, 12, 16]])"
      ]
     },
     "execution_count": 68,
     "metadata": {},
     "output_type": "execute_result"
    }
   ],
   "source": [
    "#Find the transpose of mat6\n",
    "mat6.T"
   ]
  },
  {
   "cell_type": "code",
   "execution_count": 69,
   "id": "ea494071-2171-497b-bb6a-9f1da4849b20",
   "metadata": {},
   "outputs": [
    {
     "data": {
      "text/plain": [
       "array([[ 1,  5,  9, 13],\n",
       "       [ 2,  6, 10, 14],\n",
       "       [ 3,  7, 11, 15],\n",
       "       [ 4,  8, 12, 16]])"
      ]
     },
     "execution_count": 69,
     "metadata": {},
     "output_type": "execute_result"
    }
   ],
   "source": [
    "#Find the transpose of mat6\n",
    "np.transpose(mat6)"
   ]
  },
  {
   "cell_type": "code",
   "execution_count": 70,
   "id": "54eab15b-36d0-4fef-85e1-0a1be2397afa",
   "metadata": {},
   "outputs": [
    {
     "name": "stdout",
     "output_type": "stream",
     "text": [
      "[[-0.91666667  0.33333333  0.08333333]\n",
      " [-0.16666667  0.33333333 -0.16666667]\n",
      " [ 0.75       -0.33333333  0.08333333]]\n"
     ]
    }
   ],
   "source": [
    "#Find the inverse of mat6\n",
    "mat7 = np.array([[1, 2, 3], [4,5,6], [7,2,9]])\n",
    "\n",
    "print(np.linalg.inv(mat7))"
   ]
  },
  {
   "cell_type": "markdown",
   "id": "aeeec079-896e-4b43-b2f9-75e7da4845fc",
   "metadata": {},
   "source": [
    "### Statistics"
   ]
  },
  {
   "cell_type": "code",
   "execution_count": 71,
   "id": "b6afa595-c0fe-440f-8556-666431e1981b",
   "metadata": {},
   "outputs": [
    {
     "name": "stdout",
     "output_type": "stream",
     "text": [
      "[[1 2 3]\n",
      " [4 5 6]]\n"
     ]
    }
   ],
   "source": [
    "# Given 2D array\n",
    "stats = np.array([[1,2,3],[4,5,6]])\n",
    "print(stats)"
   ]
  },
  {
   "cell_type": "code",
   "execution_count": 72,
   "id": "5cb04945-f85a-48f6-b4ef-25d622c42297",
   "metadata": {},
   "outputs": [
    {
     "name": "stdout",
     "output_type": "stream",
     "text": [
      "\n",
      "Minimum value in the array:\n",
      "1\n"
     ]
    }
   ],
   "source": [
    "# Minimum value in the entire array\n",
    "print(\"\\nMinimum value in the array:\")\n",
    "print(stats.min())\n",
    "# print(np.min(stats))"
   ]
  },
  {
   "cell_type": "code",
   "execution_count": 73,
   "id": "30d6944e-7dc2-4514-907a-3134ceee1e8b",
   "metadata": {},
   "outputs": [
    {
     "name": "stdout",
     "output_type": "stream",
     "text": [
      "\n",
      "Maximum value in the array:\n",
      "6\n",
      "6\n"
     ]
    }
   ],
   "source": [
    "# Maximum value in the entire array\n",
    "print(\"\\nMaximum value in the array:\")\n",
    "print(stats.max())\n",
    "print(np.max(stats))"
   ]
  },
  {
   "cell_type": "code",
   "execution_count": 74,
   "id": "d9a98180-8bf3-4312-9f46-e2a10e48bfcb",
   "metadata": {},
   "outputs": [
    {
     "name": "stdout",
     "output_type": "stream",
     "text": [
      "\n",
      "Maximum value along each row:\n",
      "[3 6]\n"
     ]
    }
   ],
   "source": [
    "# Maximum value along each row (axis=1)\n",
    "print(\"\\nMaximum value along each row:\")\n",
    "print(np.max(stats, axis=1))"
   ]
  },
  {
   "cell_type": "code",
   "execution_count": 75,
   "id": "c4b7609a-397f-4dd1-80f8-7fe346ca4983",
   "metadata": {},
   "outputs": [
    {
     "name": "stdout",
     "output_type": "stream",
     "text": [
      "\n",
      "Maximum value along each row:\n",
      "[4 5 6]\n"
     ]
    }
   ],
   "source": [
    "# Maximum value along each row (axis=0)\n",
    "print(\"\\nMaximum value along each row:\")\n",
    "print(np.max(stats, axis=0))"
   ]
  },
  {
   "cell_type": "code",
   "execution_count": 76,
   "id": "04e76a3b-277b-41bc-859c-a65d5566f343",
   "metadata": {},
   "outputs": [
    {
     "name": "stdout",
     "output_type": "stream",
     "text": [
      "\n",
      "Sum of the elements in the array:\n",
      "21\n"
     ]
    }
   ],
   "source": [
    "# Sum of all elements in the array\n",
    "print(\"\\nSum of the elements in the array:\")\n",
    "print(stats.sum())"
   ]
  },
  {
   "cell_type": "code",
   "execution_count": 77,
   "id": "55ae5525-4c7d-4d2b-9297-1956ba2011c6",
   "metadata": {},
   "outputs": [
    {
     "name": "stdout",
     "output_type": "stream",
     "text": [
      "\n",
      "Sum along each column:\n",
      "[5 7 9]\n"
     ]
    }
   ],
   "source": [
    "# Sum along each column (axis 0)\n",
    "print(\"\\nSum along each column:\")\n",
    "print(stats.sum(axis=0))"
   ]
  },
  {
   "cell_type": "code",
   "execution_count": 78,
   "id": "0adaeeb6-8102-4250-96d3-387e8b2e77ea",
   "metadata": {},
   "outputs": [
    {
     "name": "stdout",
     "output_type": "stream",
     "text": [
      "\n",
      "Sum along each row:\n",
      "[ 6 15]\n"
     ]
    }
   ],
   "source": [
    "# Sum along each row (axis 1)\n",
    "print(\"\\nSum along each row:\")\n",
    "print(stats.sum(axis=1))"
   ]
  },
  {
   "cell_type": "code",
   "execution_count": 79,
   "id": "5338bac3-c44f-447a-8d05-2a2c6ad8c6ed",
   "metadata": {},
   "outputs": [
    {
     "name": "stdout",
     "output_type": "stream",
     "text": [
      "\n",
      "Mean of the array:\n",
      "3.5\n"
     ]
    }
   ],
   "source": [
    "# Mean of the entire array\n",
    "print(\"\\nMean of the array:\")\n",
    "print(stats.mean())"
   ]
  },
  {
   "cell_type": "code",
   "execution_count": 80,
   "id": "7cfbd8d7-4d0e-4af1-803e-abc6172382c7",
   "metadata": {},
   "outputs": [
    {
     "name": "stdout",
     "output_type": "stream",
     "text": [
      "\n",
      "Median of the array:\n",
      "3.5\n"
     ]
    }
   ],
   "source": [
    "# Median of the entire array\n",
    "print(\"\\nMedian of the array:\")\n",
    "print(np.median(stats))"
   ]
  },
  {
   "cell_type": "code",
   "execution_count": 81,
   "id": "b117cf1f-80df-450b-ab59-3a7517b97228",
   "metadata": {},
   "outputs": [
    {
     "name": "stdout",
     "output_type": "stream",
     "text": [
      "\n",
      "Variance of the array:\n",
      "2.9166666666666665\n"
     ]
    }
   ],
   "source": [
    "# Variance of the entire array\n",
    "print(\"\\nVariance of the array:\")\n",
    "print(stats.var())"
   ]
  },
  {
   "cell_type": "code",
   "execution_count": 82,
   "id": "457cdb06-f5b1-435b-be99-3bda5230d234",
   "metadata": {},
   "outputs": [
    {
     "name": "stdout",
     "output_type": "stream",
     "text": [
      "\n",
      "Standard Deviation of the array:\n",
      "1.707825127659933\n"
     ]
    }
   ],
   "source": [
    "\n",
    "# Standard deviation of the array\n",
    "print(\"\\nStandard Deviation of the array:\")\n",
    "print(stats.std())"
   ]
  },
  {
   "cell_type": "code",
   "execution_count": 83,
   "id": "a02d0678-9edc-4e40-90f1-a6948163b015",
   "metadata": {},
   "outputs": [
    {
     "name": "stdout",
     "output_type": "stream",
     "text": [
      "\n",
      "50th Percentile (Median):\n",
      "3.5\n"
     ]
    }
   ],
   "source": [
    "# Percentile (e.g., 50th percentile)\n",
    "print(\"\\n50th Percentile (Median):\")\n",
    "print(np.percentile(stats, 50))"
   ]
  },
  {
   "cell_type": "code",
   "execution_count": 84,
   "id": "3ed39f95-b8c7-4aa7-bcfa-02f13140b6e7",
   "metadata": {},
   "outputs": [
    {
     "name": "stdout",
     "output_type": "stream",
     "text": [
      "\n",
      "25th Percentile:\n",
      "2.25\n"
     ]
    }
   ],
   "source": [
    "# 25th Percentile\n",
    "print(\"\\n25th Percentile:\")\n",
    "print(np.percentile(stats, 25))"
   ]
  },
  {
   "cell_type": "code",
   "execution_count": 85,
   "id": "01cc3012-7157-4624-8ddf-9eeb69d11df3",
   "metadata": {},
   "outputs": [
    {
     "name": "stdout",
     "output_type": "stream",
     "text": [
      "\n",
      "0th Percentile (Minimum Value):\n",
      "1.0\n"
     ]
    }
   ],
   "source": [
    "# 0th Percentile (Minimum Value)\n",
    "print(\"\\n0th Percentile (Minimum Value):\")\n",
    "print(np.percentile(stats, 0))"
   ]
  },
  {
   "cell_type": "code",
   "execution_count": 86,
   "id": "26b87e32-39dc-4d23-a279-1a39ac8b5d83",
   "metadata": {},
   "outputs": [
    {
     "name": "stdout",
     "output_type": "stream",
     "text": [
      "\n",
      "75th Percentile:\n",
      "4.75\n"
     ]
    }
   ],
   "source": [
    "# 75th Percentile\n",
    "print(\"\\n75th Percentile:\")\n",
    "print(np.percentile(stats, 75))"
   ]
  },
  {
   "cell_type": "code",
   "execution_count": 87,
   "id": "22ff0204-a0a7-4bc1-9f7f-2985b7f3a794",
   "metadata": {},
   "outputs": [
    {
     "data": {
      "text/plain": [
       "array([[1, 2, 3, 4, 5],\n",
       "       [6, 7, 8, 9, 0]])"
      ]
     },
     "execution_count": 87,
     "metadata": {},
     "output_type": "execute_result"
    }
   ],
   "source": [
    "#Vertically stacking vectors\n",
    "v1 = np.array([1,2,3,4,5])\n",
    "v2 = np.array([6,7,8,9,0])\n",
    "\n",
    "np.vstack([v1,v2])"
   ]
  },
  {
   "cell_type": "code",
   "execution_count": 88,
   "id": "c37353c2-af06-4811-8c4c-0162fb186f0c",
   "metadata": {},
   "outputs": [
    {
     "data": {
      "text/plain": [
       "array([1, 2, 3, 4, 5, 6, 7, 8, 9, 0])"
      ]
     },
     "execution_count": 88,
     "metadata": {},
     "output_type": "execute_result"
    }
   ],
   "source": [
    "# Horizontally stacking vectors\n",
    "np.hstack([v1,v2])"
   ]
  },
  {
   "cell_type": "markdown",
   "id": "3bf1530a-714d-456f-9a4e-f63c5d1acd68",
   "metadata": {},
   "source": [
    "### Miscellaneous\n",
    "\n",
    "#### Load Data from file"
   ]
  },
  {
   "cell_type": "code",
   "execution_count": 89,
   "id": "347268de-6ded-46ee-95e7-018780bc6830",
   "metadata": {},
   "outputs": [
    {
     "name": "stdout",
     "output_type": "stream",
     "text": [
      "[[ 1  2  3  4  5]\n",
      " [ 6  7 25  9  0]\n",
      " [ 3  4  2  6 50]]\n"
     ]
    }
   ],
   "source": [
    "# Read the data from \"data.txt\" file and convert it into a NumPy array\n",
    "# dtype=\"int16\" ensures the data is treated as 16-bit integers\n",
    "# delimiter=\",\" specifies that the values are separated by commas in the file\n",
    "data = np.genfromtxt(\"data.txt\", delimiter=\",\", dtype=\"int16\")\n",
    "\n",
    "# Print the loaded data\n",
    "print(data)"
   ]
  },
  {
   "cell_type": "code",
   "execution_count": 90,
   "id": "5c8880da-d174-451f-adcb-4ac0e0ae1345",
   "metadata": {},
   "outputs": [
    {
     "name": "stdout",
     "output_type": "stream",
     "text": [
      "[[ 1  2  3  4  5]\n",
      " [ 6  7 25  9  0]\n",
      " [ 3  4  2  6 50]]\n"
     ]
    }
   ],
   "source": [
    "# Read the data from the \"data.txt\" file\n",
    "# The file is expected to be a comma-separated values\n",
    "# We are not explicitly setting the data type here, so NumPy will infer the type\n",
    "data = np.genfromtxt(\"data.txt\", delimiter=\",\")\n",
    "\n",
    "# Convert the data to 16-bit integers (int16) using astype() and print it\n",
    "print(data.astype(\"int16\"))"
   ]
  },
  {
   "cell_type": "markdown",
   "id": "26e48f02-60a7-4c95-a423-81467d46277a",
   "metadata": {},
   "source": [
    "### Boolean Masking and Advanced indexing"
   ]
  },
  {
   "cell_type": "code",
   "execution_count": 91,
   "id": "4bc545dc-2b40-4c50-b0dc-8d0074246a26",
   "metadata": {},
   "outputs": [
    {
     "name": "stdout",
     "output_type": "stream",
     "text": [
      "[[False False False False False]\n",
      " [False False  True False False]\n",
      " [False False False False  True]]\n",
      "[25. 50.]\n"
     ]
    }
   ],
   "source": [
    "# Create a boolean mask where the condition is data >= 50\n",
    "mask = (data > 20)  # The condition checks if each element in 'data' is greater than or equal to 50\n",
    "print(mask)\n",
    "\n",
    "# Use the mask to select elements from the original 'data' array that satisfy the condition\n",
    "filtered_data = data[mask]  # Only the elements where the condition is True are selected\n",
    "print(filtered_data)"
   ]
  },
  {
   "cell_type": "code",
   "execution_count": 92,
   "id": "46372692-8ea9-4d72-9ba9-3d52ecb6fbae",
   "metadata": {},
   "outputs": [
    {
     "name": "stdout",
     "output_type": "stream",
     "text": [
      "[[False False False False False]\n",
      " [False False  True False False]\n",
      " [False False False False  True]]\n",
      "[25. 50.]\n"
     ]
    }
   ],
   "source": [
    "# Create a boolean mask where the condition is data > 20 and data < 100\n",
    "mask = (data > 20) & (data < 100)  # Checks if elements are greater than 20 AND less than 100\n",
    "print(mask)\n",
    "\n",
    "# Use the mask to filter elements from 'data' that satisfy both conditions\n",
    "filtered_data = data[mask]  # Only the elements where both conditions are True are selected\n",
    "print(filtered_data)"
   ]
  },
  {
   "cell_type": "code",
   "execution_count": 93,
   "id": "ac12afe5-0c13-4404-9734-d046f22ccb4c",
   "metadata": {},
   "outputs": [
    {
     "name": "stdout",
     "output_type": "stream",
     "text": [
      "[2 4 6]\n"
     ]
    }
   ],
   "source": [
    "# Indexing with a list in numpy\n",
    "data_arr = np.array([1, 2, 3, 4, 5, 6, 7, 8, 9])\n",
    "\n",
    "# Select elements at index 1, 3, and 5 from the array 'data_arr'\n",
    "selected_values = data_arr[[1, 3, 5]]  # Using a list of indices to fetch specific elements\n",
    "print(selected_values)"
   ]
  }
 ],
 "metadata": {
  "kernelspec": {
   "display_name": "Python 3 (ipykernel)",
   "language": "python",
   "name": "python3"
  },
  "language_info": {
   "codemirror_mode": {
    "name": "ipython",
    "version": 3
   },
   "file_extension": ".py",
   "mimetype": "text/x-python",
   "name": "python",
   "nbconvert_exporter": "python",
   "pygments_lexer": "ipython3",
   "version": "3.12.6"
  }
 },
 "nbformat": 4,
 "nbformat_minor": 5
}
